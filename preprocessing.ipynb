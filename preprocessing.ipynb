{
 "cells": [
  {
   "cell_type": "code",
   "execution_count": null,
   "metadata": {},
   "outputs": [],
   "source": [
    "''' This section is for preprocessing required for images.\n",
    " most of the images contains the noise so images needs preprocessing.\n",
    " here i have imported the functions from skimage,opencv to perform preprocessing.\n",
    " preprocessing mostly involved cropping,local color minimization, resize, histogram equlization etc'''\n",
    "\n",
    "\n",
    "\n",
    "import cv2\n",
    "import matplotlib.pyplot as plt\n",
    "\n",
    "def scaleRadius(img,scale):\n",
    "  x=img[int(img.shape[0]/2),:,:].sum(1)\n",
    "  r=(x>x.mean()/10).sum()/2\n",
    "  s=scale*1.0/r\n",
    "  return cv2.resize(img,(0,0),fx=s,fy=s)\n",
    "\n",
    "scale=1000 #scale can be of any value you should have to check it with your image\n",
    "for fold in tqdm(folders):\n",
    "  print(fold)\n",
    "  os.makedirs('/content/preprocessed/' + fold) # makes folder preprocessed and name it as same of older one.\n",
    "  for f in glob.glob(os.path.join(\"/content/resized/\", fold + '/*.jpeg')): # here in my case i have images on folder resized. what is goona do is that it picks every jpeg format images from folder or subfolder\n",
    "    try:\n",
    "      a=cv2.imread(f)\n",
    "      print(a.shape)\n",
    "      a=scaleRadius(a,scale) #calling above function\n",
    "      a=cv2.addWeighted(a, 4, cv2.GaussianBlur(a,(0,0),scale/30), -4, 128)\n",
    "      b=np.zeros(a.shape)\n",
    "      cv2.circle(b,(int(a.shape[1]/2),int(a.shape[0]/2)), 970,(1,1,1), -1, 8, 0)\n",
    "      a = a * b + 128 * (1 - b)\n",
    "      a=cv2.resize(a,(512,512))\n",
    "      fname = f.split('/')[-1]\n",
    "      cv2.imwrite('/content/new/' + fold + '/'  + fname.split('.')[0] + '_preprocessed.'+ fname.split('.')[1],a)\n",
    "      \n",
    "    except:\n",
    "      print(f)\n",
    "     "
   ]
  },
  {
   "cell_type": "code",
   "execution_count": null,
   "metadata": {},
   "outputs": [],
   "source": [
    "'''as mentioned above i imported the preprocessing functions from skimage\n",
    "contrast stretching, histogram etc can be done from skimage(i prefer)'''\n",
    "from skimage import data, img_as_float\n",
    "from skimage import exposure\n",
    "\n",
    "def custom_func(img):\n",
    "  # Contrast stretching\n",
    "  p2, p98 = np.percentile(img, (2, 98))\n",
    "  img = exposure.rescale_intensity(img, in_range=(p2, p98))\n",
    "  # Equalization\n",
    "  img = exposure.equalize_hist(img)\n",
    "  # Adaptive Equalization\n",
    "  img = exposure.equalize_adapthist(img, clip_limit=0.03)\n",
    "  return img\n",
    "#check working of above custom function\n",
    "\n",
    "a = custom_func(cv2.imread('/content/train/level0/10031_right.jpeg'))\n"
   ]
  }
 ],
 "metadata": {
  "kernelspec": {
   "display_name": "Python 3",
   "language": "python",
   "name": "python3"
  },
  "language_info": {
   "codemirror_mode": {
    "name": "ipython",
    "version": 3
   },
   "file_extension": ".py",
   "mimetype": "text/x-python",
   "name": "python",
   "nbconvert_exporter": "python",
   "pygments_lexer": "ipython3",
   "version": "3.6.8"
  }
 },
 "nbformat": 4,
 "nbformat_minor": 2
}
