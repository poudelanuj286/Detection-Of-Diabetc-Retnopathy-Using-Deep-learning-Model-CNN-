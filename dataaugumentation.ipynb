{
 "cells": [
  {
   "cell_type": "code",
   "execution_count": null,
   "metadata": {},
   "outputs": [],
   "source": [
    "\n",
    "''' data augumentation'''\n",
    "''' data augumentation is done if the there are not equal data in respective class label'''\n",
    "#try this for single image\n",
    "a=cv2.imread('/content/fun12.png',cv2.IMREAD_UNCHANGED)\n",
    "(h, w) = a.shape[:2] \n",
    "center = (w / 2, h / 2)\n",
    "angle90 = 90\n",
    "angle180 = 180\n",
    "angle270 = 270\n",
    "angle45 =45\n",
    "angle135 = 135\n",
    "scale = 1.0\n",
    "M = cv2.getRotationMatrix2D(center, angle90, scale)\n",
    "a = cv2.warpAffine(a, M, (h, w)) \n",
    "cv2.imwrite('90.png',a)"
   ]
  },
  {
   "cell_type": "code",
   "execution_count": null,
   "metadata": {},
   "outputs": [],
   "source": [
    "''' now use above code for entire data'''\n",
    "\n",
    "\n",
    "for fold in tqdm(folders):\n",
    "  print(fold)\n",
    "  os.makedirs('/content/train/' + fold)\n",
    "  for f in glob.glob(os.path.join(\"/content/remake\", fold + '/*.jpeg')):\n",
    "    try:\n",
    "      a=cv2.imread(f)\n",
    "      read image\n",
    "      a = cv2.imread(f, cv2.IMREAD_UNCHANGED)\n",
    "      print(src.shape)\n",
    "      a = a[:,:,1]\n",
    "      cv2.imwrite('/content/green-channel.png',green_channel) \n",
    "      (h, w) = a.shape[:2] \n",
    "      center = (w / 2, h / 2)\n",
    "      angle90 = 90\n",
    "      angle180 = 180\n",
    "      angle270 = 270\n",
    "      angle45 =45\n",
    "      angle135 = 135\n",
    "      scale = 1.0\n",
    "      M = cv2.getRotationMatrix2D(center, angle90, scale)\n",
    "      a = cv2.warpAffine(a, M, (h, w)) \n",
    "      \n",
    "      a=cv2.flip(a,2)\n",
    "\n",
    "  \n",
    "      a=cv2.resize(a,(512, 512))\n",
    "      a =cv2.imshow(cv2.cvtColor(a, cv2.COLOR_BGR2GRAY))\n",
    "      fname = f.split('/')[-1]\n",
    "      cv2.imwrite('/content/train/' + fold + '/'  + fname.split('.')[0] + '_90.'+ fname.split('.')[1],a)\n",
    "  \n",
    "    except:\n",
    "      pass"
   ]
  }
 ],
 "metadata": {
  "kernelspec": {
   "display_name": "Python 3",
   "language": "python",
   "name": "python3"
  },
  "language_info": {
   "codemirror_mode": {
    "name": "ipython",
    "version": 3
   },
   "file_extension": ".py",
   "mimetype": "text/x-python",
   "name": "python",
   "nbconvert_exporter": "python",
   "pygments_lexer": "ipython3",
   "version": "3.6.8"
  }
 },
 "nbformat": 4,
 "nbformat_minor": 2
}
